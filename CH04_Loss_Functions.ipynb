{
  "nbformat": 4,
  "nbformat_minor": 0,
  "metadata": {
    "colab": {
      "name": "CH04_Loss_Functions.ipynb",
      "provenance": [],
      "collapsed_sections": [],
      "include_colab_link": true
    },
    "kernelspec": {
      "name": "python3",
      "display_name": "Python 3"
    },
    "language_info": {
      "name": "python"
    }
  },
  "cells": [
    {
      "cell_type": "markdown",
      "metadata": {
        "id": "view-in-github",
        "colab_type": "text"
      },
      "source": [
        "<a href=\"https://colab.research.google.com/github/krec7748/Cell_tracking/blob/main/CH04_Loss_Functions.ipynb\" target=\"_parent\"><img src=\"https://colab.research.google.com/assets/colab-badge.svg\" alt=\"Open In Colab\"/></a>"
      ]
    },
    {
      "cell_type": "markdown",
      "source": [
        "## 1. Datasets"
      ],
      "metadata": {
        "id": "QKKVVqw_27Mf"
      }
    },
    {
      "cell_type": "markdown",
      "source": [
        "### 1. Dataset for Regression"
      ],
      "metadata": {
        "id": "czun7hG1299O"
      }
    },
    {
      "cell_type": "code",
      "source": [
        "import tensorflow as tf\n",
        "\n",
        "N, n_feature = 8, 5\n",
        "t_weights = tf.constant([1, 2, 3, 4, 5], dtype = tf.float32)\n",
        "t_bias = tf.constant([10], dtype = tf.float32)\n",
        "\n",
        "X = tf.random.normal(mean = 0, stddev = 1, shape = (N, n_feature))\n",
        "Y = tf.reduce_sum(X * t_weights, axis = 1) + t_bias\n",
        "\n",
        "print(\"X(shape/dtype/data: {} / {}\\n{}\\n\".format(X.shape, X.dtype, X.numpy()))\n",
        "print(\"Y(shape/dtype/data: {} / {}\\n{}\\n\".format(Y.shape, Y.dtype, Y.numpy()))"
      ],
      "metadata": {
        "colab": {
          "base_uri": "https://localhost:8080/"
        },
        "id": "jCun0G1829TT",
        "outputId": "255ae649-99e3-4128-b3f0-7f2831ac2408"
      },
      "execution_count": 4,
      "outputs": [
        {
          "output_type": "stream",
          "name": "stdout",
          "text": [
            "X(shape/dtype/data: (8, 5) / <dtype: 'float32'>\n",
            "[[-1.250284   -0.6487677  -0.71603507  1.1050797  -0.6174603 ]\n",
            " [ 1.3354805   0.97403085 -0.35074976  0.46178842  1.8921834 ]\n",
            " [ 0.77866435 -1.558661    1.0681812  -0.6251609  -0.5735787 ]\n",
            " [-2.3574576  -0.19194466  0.5620251  -0.1495134   2.308006  ]\n",
            " [ 0.33949533  1.4311163   0.13812031 -0.5879801  -0.13479772]\n",
            " [ 0.2522798  -0.6428541  -1.8108578  -0.46418732 -1.0871072 ]\n",
            " [ 0.6031912   0.6426342  -1.1054391  -1.3549364   1.2770388 ]\n",
            " [-0.6240641  -0.0876119  -1.0509317   0.4284316  -0.92646706]]\n",
            "\n",
            "Y(shape/dtype/data: (8,) / <dtype: 'float32'>\n",
            "[ 6.6370926 23.539364   5.497349  19.886705  10.59018   -3.7582874\n",
            "  9.537591   3.1293082]\n",
            "\n"
          ]
        }
      ]
    },
    {
      "cell_type": "markdown",
      "source": [
        "### 2. Dataset for Binary Classification"
      ],
      "metadata": {
        "id": "ScB_l3923Bdl"
      }
    },
    {
      "cell_type": "code",
      "source": [
        "import tensorflow as tf\n",
        "\n",
        "N, n_feature = 8, 5\n",
        "t_weights = tf.constant([1, 2, 3, 4, 5], dtype = tf.float32)\n",
        "t_bias = tf.constant([10], dtype = tf.float32)\n",
        "\n",
        "X = tf.random.normal(mean = 0, stddev = 1, shape = (N, n_feature))\n",
        "Y = tf.reduce_sum(X * t_weights, axis = 1) + t_bias\n",
        "Y_b = tf.cast(Y > 5, tf.int32) #tf.cast: datatype을 바꾸어줌. (여기서는 boolen > int32)\n",
        "\n",
        "print(\"X(shape/dtype/data: {} / {}\\n{}\\n\".format(X.shape, X.dtype, X.numpy()))\n",
        "print(\"Y(shape/dtype/data: {} / {}\\n{}\\n\".format(Y.shape, Y.dtype, Y.numpy()))\n",
        "print(\"Y_binary(shape/dtype/data: {} / {}\\n{}\\n\".format(Y_b.shape, Y_b.dtype, Y_b.numpy()))"
      ],
      "metadata": {
        "colab": {
          "base_uri": "https://localhost:8080/"
        },
        "id": "SvMnZkJl3HJx",
        "outputId": "1a549ae6-cbd8-42f0-c826-a31e44043240"
      },
      "execution_count": 5,
      "outputs": [
        {
          "output_type": "stream",
          "name": "stdout",
          "text": [
            "X(shape/dtype/data: (8, 5) / <dtype: 'float32'>\n",
            "[[ 0.47715846 -0.56015086  0.24968106  0.03156044  0.69933426]\n",
            " [-0.43770796  0.17755486  0.82322246  1.2974149   0.50151896]\n",
            " [-1.6614627   0.60517865 -0.07507582 -0.8327584  -0.4580765 ]\n",
            " [-0.91608024 -0.90811133 -0.00438176  1.0299528   1.2576612 ]\n",
            " [-0.74195623  0.24170269 -0.01156597  0.80887896 -0.20795722]\n",
            " [ 0.7311476  -0.35025355  0.54567873 -0.29435772  0.4039447 ]\n",
            " [ 1.7860504   0.19312778 -1.3761576  -1.5237675   1.3149248 ]\n",
            " [ 0.675263    1.1004834  -0.2807703  -1.2195137  -0.9916829 ]]\n",
            "\n",
            "Y(shape/dtype/data: (8,) / <dtype: 'float32'>\n",
            "[13.728813  20.084324   3.7022505 17.66267   11.902481  12.50997\n",
            "  8.523387   2.1974497]\n",
            "\n",
            "Y_binary(shape/dtype/data: (8,) / <dtype: 'int32'>\n",
            "[1 1 0 1 1 1 1 0]\n",
            "\n"
          ]
        }
      ]
    },
    {
      "cell_type": "markdown",
      "source": [
        "### 3. Dataset for Multi-class Classification"
      ],
      "metadata": {
        "id": "JwPD5vnV3BVH"
      }
    },
    {
      "cell_type": "code",
      "source": [
        "import tensorflow as tf\n",
        "import matplotlib.pyplot as plt\n",
        "\n",
        "N, n_feature = 8, 2\n",
        "n_class = 3\n",
        "\n",
        "#데이터셋 (X, Y) 변수 생성\n",
        "X = tf.zeros(shape = (0, n_feature))\n",
        "Y = tf.zeros(shape = (0, 1), dtype = tf.int32)\n",
        "\n",
        "#시각화 설정\n",
        "plt.style.use(\"seaborn\")\n",
        "fig, ax = plt.subplots(figsize = (5, 5))\n",
        "\n",
        "for class_idx in range(n_class):\n",
        "    #임의의 중심점 벡터설정\n",
        "    center = tf.random.uniform(minval = -15,  maxval = 15, shape = (2, ))\n",
        "\n",
        "    #중심점 주변으로 임의의 데이터 생성\n",
        "    x1 = center[0] + tf.random.normal(shape = (N, 1)) #shape: (N, 1)\n",
        "    x2 = center[1] + tf.random.normal(shape = (N, 1)) #shape: (N, 1)\n",
        "\n",
        "    #생성한 데이터들을 묶음\n",
        "    x = tf.concat((x1, x2), axis = 1) #shape: (N, 2)\n",
        "\n",
        "    #데이터들의 클래스 설정\n",
        "    y = class_idx * tf.ones(shape = (N, 1), dtype = tf.int32) #shape: (N, 1)\n",
        "\n",
        "    #시각화\n",
        "    ax.scatter(x[:, 0].numpy(), x[:, 1].numpy(), alpha = 0.5)\n",
        "\n",
        "    #데이터 셋에 담기\n",
        "    X = tf.concat((X, x), axis = 0)\n",
        "    Y = tf.concat((Y, y), axis = 0)\n",
        "    \n",
        "#Confirm\n",
        "print(\"X(shape/dtype/data: {} / {}\\n{}\\n\".format(X.shape, X.dtype, X.numpy()))\n",
        "print(\"Y(shape/dtype/data: {} / {}\\n{}\\n\".format(Y.shape, Y.dtype, Y.numpy()))"
      ],
      "metadata": {
        "colab": {
          "base_uri": "https://localhost:8080/",
          "height": 1000
        },
        "id": "DpUjCV4o3Hdg",
        "outputId": "85e9e7ef-e563-4c4a-fff4-a1102ad8b524"
      },
      "execution_count": 33,
      "outputs": [
        {
          "output_type": "stream",
          "name": "stdout",
          "text": [
            "X(shape/dtype/data: (24, 2) / <dtype: 'float32'>\n",
            "[[ 11.475074    -4.0365715 ]\n",
            " [ 10.814414    -4.631461  ]\n",
            " [ 11.561847    -4.373259  ]\n",
            " [ 11.504583    -5.7109756 ]\n",
            " [ 11.316931    -6.4582515 ]\n",
            " [ 10.963577    -2.9651327 ]\n",
            " [ 11.341058    -3.1089087 ]\n",
            " [ 11.974572    -4.871673  ]\n",
            " [ -7.1695027   -0.4196735 ]\n",
            " [ -7.567725    -1.7680057 ]\n",
            " [ -8.792506    -0.94778794]\n",
            " [ -5.992324     0.5212157 ]\n",
            " [ -7.5467324    0.87877536]\n",
            " [ -6.8562775    0.17267668]\n",
            " [ -7.925321    -3.0344453 ]\n",
            " [ -8.553035    -0.71151555]\n",
            " [ -9.437509   -14.843956  ]\n",
            " [ -6.5094943  -13.378238  ]\n",
            " [ -7.6473293  -15.018809  ]\n",
            " [ -7.955691   -15.32201   ]\n",
            " [ -9.491535   -15.130469  ]\n",
            " [-10.239123   -14.418268  ]\n",
            " [ -7.4006243  -15.249985  ]\n",
            " [ -9.449647   -13.806467  ]]\n",
            "\n",
            "Y(shape/dtype/data: (24, 1) / <dtype: 'int32'>\n",
            "[[0]\n",
            " [0]\n",
            " [0]\n",
            " [0]\n",
            " [0]\n",
            " [0]\n",
            " [0]\n",
            " [0]\n",
            " [1]\n",
            " [1]\n",
            " [1]\n",
            " [1]\n",
            " [1]\n",
            " [1]\n",
            " [1]\n",
            " [1]\n",
            " [2]\n",
            " [2]\n",
            " [2]\n",
            " [2]\n",
            " [2]\n",
            " [2]\n",
            " [2]\n",
            " [2]]\n",
            "\n"
          ]
        },
        {
          "output_type": "display_data",
          "data": {
            "image/png": "[encoded data removed]",
            "text/plain": [
              "<Figure size 360x360 with 1 Axes>"
            ]
          },
          "metadata": {}
        }
      ]
    },
    {
      "cell_type": "markdown",
      "source": [
        "### 4. Dataset for Multi-class Classification with One-hot Encoding"
      ],
      "metadata": {
        "id": "lZ-xm5ZDGTi7"
      }
    },
    {
      "cell_type": "code",
      "source": [
        "import tensorflow as tf\n",
        "import matplotlib.pyplot as plt\n",
        "\n",
        "N, n_feature = 8, 2\n",
        "n_class = 3\n",
        "\n",
        "#데이터셋 (X, Y) 변수 생성\n",
        "X = tf.zeros(shape = (0, n_feature))\n",
        "Y = tf.zeros(shape = (0, ), dtype = tf.int32) #Vector 형태로 만들어 주어야 함. (One hot vector)\n",
        "\n",
        "#시각화 설정\n",
        "plt.style.use(\"seaborn\")\n",
        "fig, ax = plt.subplots(figsize = (5, 5))\n",
        "\n",
        "for class_idx in range(n_class):\n",
        "    #임의의 중심점 벡터설정\n",
        "    center = tf.random.uniform(minval = -15,  maxval = 15, shape = (2, ))\n",
        "\n",
        "    #중심점 주변으로 임의의 데이터 생성\n",
        "    x1 = center[0] + tf.random.normal(shape = (N, 1)) #shape: (N, 1)\n",
        "    x2 = center[1] + tf.random.normal(shape = (N, 1)) #shape: (N, 1)\n",
        "\n",
        "    #생성한 데이터들을 묶음\n",
        "    x = tf.concat((x1, x2), axis = 1) #shape: (N, 2)\n",
        "\n",
        "    #데이터들의 클래스 설정\n",
        "    y = class_idx * tf.ones(shape = (N, ), dtype = tf.int32) #Vector 형태로 만들어 주어야 함. (One hot vector)\n",
        "\n",
        "    #시각화\n",
        "    ax.scatter(x[:, 0].numpy(), x[:, 1].numpy(), alpha = 0.5)\n",
        "\n",
        "    #데이터 셋에 담기\n",
        "    X = tf.concat((X, x), axis = 0)\n",
        "    Y = tf.concat((Y, y), axis = 0)\n",
        "\n",
        "#One hot encoding\n",
        "Y = tf.one_hot(Y, depth = n_class, dtype = tf.int32)\n",
        "\n",
        "#Confirm\n",
        "print(\"X(shape/dtype/data: {} / {}\\n{}\\n\".format(X.shape, X.dtype, X.numpy()))\n",
        "print(\"Y(shape/dtype/data: {} / {}\\n{}\\n\".format(Y.shape, Y.dtype, Y.numpy()))"
      ],
      "metadata": {
        "colab": {
          "base_uri": "https://localhost:8080/",
          "height": 1000
        },
        "id": "rXXjoxx_Gdfo",
        "outputId": "5d56b2ec-a72e-4320-e7c7-4f3803171537"
      },
      "execution_count": 47,
      "outputs": [
        {
          "output_type": "stream",
          "name": "stdout",
          "text": [
            "X(shape/dtype/data: (24, 2) / <dtype: 'float32'>\n",
            "[[ -1.1257721  -10.728225  ]\n",
            " [  2.0492244  -10.237036  ]\n",
            " [  1.0775546  -11.225157  ]\n",
            " [  1.924815   -11.5197115 ]\n",
            " [  0.36057758 -10.595751  ]\n",
            " [ -0.57063127 -12.528351  ]\n",
            " [  0.33080918 -10.099607  ]\n",
            " [  0.19839913 -13.223125  ]\n",
            " [  4.388907    -6.529095  ]\n",
            " [  5.410236    -4.938502  ]\n",
            " [  6.8995433   -6.353146  ]\n",
            " [  6.2825265   -8.622751  ]\n",
            " [  4.4679346   -6.186336  ]\n",
            " [  6.1500072   -7.569845  ]\n",
            " [  5.9072504   -6.556487  ]\n",
            " [  3.7504761   -5.9712214 ]\n",
            " [-12.417862   -12.78781   ]\n",
            " [-13.102141    -9.807152  ]\n",
            " [-14.379223   -10.0119    ]\n",
            " [-12.723747   -12.418128  ]\n",
            " [-13.29563    -11.655244  ]\n",
            " [-13.918744   -12.873541  ]\n",
            " [-13.870561   -10.846468  ]\n",
            " [-13.287624   -12.849361  ]]\n",
            "\n",
            "Y(shape/dtype/data: (24, 3) / <dtype: 'int32'>\n",
            "[[1 0 0]\n",
            " [1 0 0]\n",
            " [1 0 0]\n",
            " [1 0 0]\n",
            " [1 0 0]\n",
            " [1 0 0]\n",
            " [1 0 0]\n",
            " [1 0 0]\n",
            " [0 1 0]\n",
            " [0 1 0]\n",
            " [0 1 0]\n",
            " [0 1 0]\n",
            " [0 1 0]\n",
            " [0 1 0]\n",
            " [0 1 0]\n",
            " [0 1 0]\n",
            " [0 0 1]\n",
            " [0 0 1]\n",
            " [0 0 1]\n",
            " [0 0 1]\n",
            " [0 0 1]\n",
            " [0 0 1]\n",
            " [0 0 1]\n",
            " [0 0 1]]\n",
            "\n"
          ]
        },
        {
          "output_type": "display_data",
          "data": {
            "image/png": "[encoded data removed]",
            "text/plain": [
              "<Figure size 360x360 with 1 Axes>"
            ]
          },
          "metadata": {}
        }
      ]
    },
    {
      "cell_type": "markdown",
      "source": [
        "### 5. Dataset Objects"
      ],
      "metadata": {
        "id": "U75EaxTv3A28"
      }
    },
    {
      "cell_type": "code",
      "source": [
        "import tensorflow as tf\n",
        "\n",
        "N, n_feature = 100, 5\n",
        "batch_size = 32\n",
        "\n",
        "t_weights = tf.constant([1, 2, 3 ,4 ,5], dtype = tf.float32)\n",
        "t_bias = tf.constant([10], dtype = tf.float32)\n",
        "\n",
        "X = tf.random.normal(mean = 0, stddev = 1, shape = (N, n_feature))\n",
        "Y = tf.reduce_sum(X * t_weights, axis = 1) + t_bias\n",
        "\n",
        "#데이터셋 Object 생성\n",
        "dataset = tf.data.Dataset.from_tensor_slices((X, Y)) #데이터가 간단하고 size가 작을 때 쓰는 방법\n",
        "\n",
        "#Batch, shuffle 적용\n",
        "dataset = dataset.batch(batch_size).shuffle(1)\n",
        "\n",
        "#확인\n",
        "for x, y in dataset:\n",
        "    print(x.shape, y.shape)"
      ],
      "metadata": {
        "colab": {
          "base_uri": "https://localhost:8080/"
        },
        "id": "8BSt5EVp3Nan",
        "outputId": "07d0bf88-df33-4263-e441-175b267a9c30"
      },
      "execution_count": 55,
      "outputs": [
        {
          "output_type": "stream",
          "name": "stdout",
          "text": [
            "(32, 5) (32,)\n",
            "(32, 5) (32,)\n",
            "(32, 5) (32,)\n",
            "(4, 5) (4,)\n"
          ]
        }
      ]
    },
    {
      "cell_type": "markdown",
      "source": [
        "## 2. Mean Squared Error"
      ],
      "metadata": {
        "id": "bRWe3CV52zWt"
      }
    },
    {
      "cell_type": "markdown",
      "source": [
        "### 1. MSE Calculation"
      ],
      "metadata": {
        "id": "GIK0ShYh25_0"
      }
    },
    {
      "cell_type": "code",
      "source": [
        "import tensorflow as tf\n",
        "from tensorflow.keras.losses import MeanSquaredError\n",
        "\n",
        "#Set batch_size\n",
        "batch_size = 32\n",
        "\n",
        "#Set loss function\n",
        "loss_object = MeanSquaredError()\n",
        "\n",
        "#Set label, prediction data\n",
        "labels = tf.random.normal(shape = (batch_size, 1))\n",
        "predictions = tf.random.normal(shape = (batch_size , 1)) #마지막 Layer의 뉴런 수는 1개 이므로 shape = (?, 1)\n",
        "\n",
        "#Get mse\n",
        "mse_func = loss_object(labels, predictions)\n",
        "mse_manual = tf.reduce_mean(tf.math.pow(labels - predictions, 2))\n",
        "\n",
        "#Confirm\n",
        "print(\"MSE(Tensorflow): \", mse_func.numpy())\n",
        "print(\"MSE(Manual): \", mse_manual.numpy())"
      ],
      "metadata": {
        "colab": {
          "base_uri": "https://localhost:8080/"
        },
        "id": "SoLD5ckHcQmY",
        "outputId": "63a0725c-30bc-4cf6-eb1e-e0d8b85e551c"
      },
      "execution_count": 10,
      "outputs": [
        {
          "output_type": "stream",
          "name": "stdout",
          "text": [
            "MSE(Tensorflow):  1.6916766\n",
            "MSE(Manual):  1.6916766\n"
          ]
        }
      ]
    },
    {
      "cell_type": "markdown",
      "source": [
        "### 2. MSE with Model/Dataset"
      ],
      "metadata": {
        "id": "womK15wX29c6"
      }
    },
    {
      "cell_type": "code",
      "source": [
        "import tensorflow as tf\n",
        "from tensorflow.keras.layers import Dense\n",
        "from tensorflow.keras.losses import MeanSquaredError\n",
        "\n",
        "#Set N, n_feature, batch_size\n",
        "N, n_feature = 100, 5\n",
        "batch_size = 32\n",
        "\n",
        "#Create data\n",
        "X = tf.random.normal(shape = (N, n_feature))\n",
        "Y = tf.random.normal(shape = (N, 1))\n",
        "\n",
        "#Create dataset\n",
        "dataset = tf.data.Dataset.from_tensor_slices((X, Y))\n",
        "dataset = dataset.batch(batch_size)\n",
        "\n",
        "#Set Model, Loss function\n",
        "model = Dense(units = 1, activation = \"linear\")\n",
        "loss_object = MeanSquaredError()\n",
        "\n",
        "#Confirm\n",
        "for x, y in dataset:\n",
        "    predictions = model(x)\n",
        "    loss = loss_object(y, predictions)\n",
        "    print(loss.numpy())"
      ],
      "metadata": {
        "colab": {
          "base_uri": "https://localhost:8080/"
        },
        "id": "iy0vdYTMeFc4",
        "outputId": "be993558-4035-4f97-882b-05145726a274"
      },
      "execution_count": 12,
      "outputs": [
        {
          "output_type": "stream",
          "name": "stdout",
          "text": [
            "2.164154\n",
            "1.9735975\n",
            "2.951359\n",
            "1.1400383\n"
          ]
        }
      ]
    },
    {
      "cell_type": "markdown",
      "source": [
        "## 3. Binary Cross Entropy"
      ],
      "metadata": {
        "id": "FAGyQb0s3AbL"
      }
    },
    {
      "cell_type": "markdown",
      "source": [
        "### 1. BCE Calculation"
      ],
      "metadata": {
        "id": "71tpYMOU3E0O"
      }
    },
    {
      "cell_type": "code",
      "source": [
        "import tensorflow as tf\n",
        "from tensorflow.keras.losses import BinaryCrossentropy\n",
        "\n",
        "#Set batch_size, number of classes\n",
        "batch_size = 32\n",
        "n_class = 2 #binary\n",
        "\n",
        "#Set label, prediction data\n",
        "labels = tf.random.uniform(shape = (batch_size, 1),\n",
        "                           minval = 0, maxval = 2,\n",
        "                           dtype = tf.int32)\n",
        "\n",
        "predictions = tf.random.uniform(shape = (batch_size, 1),\n",
        "                                minval = 0, maxval = 1,\n",
        "                                dtype = tf.float32)\n",
        "\n",
        "#Set loss function\n",
        "loss_object = BinaryCrossentropy()\n",
        "\n",
        "#Get bce (Tensorflow)\n",
        "bce_tf = loss_object(labels, predictions)\n",
        "\n",
        "#Get bce (Manual)\n",
        "labels = tf.cast(labels, dtype = tf.float32)\n",
        "bce_manual = - (labels * tf.math.log(predictions) + (1 - labels) * tf.math.log(1 - predictions))\n",
        "bce_manual = tf.reduce_mean(bce_manual)\n",
        "\n",
        "#Confirm\n",
        "print(\"BCE(Tensorflow): \", bce_tf.numpy())\n",
        "print(\"BCE(Manual): \", bce_manual.numpy())"
      ],
      "metadata": {
        "colab": {
          "base_uri": "https://localhost:8080/"
        },
        "id": "7i8dkXNxhC2C",
        "outputId": "856303b8-fbf0-4f1c-aa92-fc3627d89d59"
      },
      "execution_count": 20,
      "outputs": [
        {
          "output_type": "stream",
          "name": "stdout",
          "text": [
            "BCE(Tensorflow):  0.86497915\n",
            "BCE(Manual):  0.8649796\n"
          ]
        }
      ]
    },
    {
      "cell_type": "markdown",
      "source": [
        "### 2. BCE with Model/Dataset"
      ],
      "metadata": {
        "id": "g5On-yS13Hcs"
      }
    },
    {
      "cell_type": "code",
      "source": [
        "import tensorflow as tf\n",
        "from tensorflow.keras.layers import Dense\n",
        "from tensorflow.keras.losses import BinaryCrossentropy\n",
        "\n",
        "#Set N, n_feature, batch_size\n",
        "N, n_feature = 100, 5\n",
        "batch_size = 32\n",
        "\n",
        "#Set weights, bias\n",
        "t_weights = tf.constant([1, 2, 3, 4, 5], dtype = tf.float32)\n",
        "t_bias = tf.constant([10], dtype = tf.float32)\n",
        "\n",
        "#Create data\n",
        "X = tf.random.normal(mean = 0, stddev = 1, shape = (N, n_feature))\n",
        "Y = tf.reduce_sum(X * t_weights, axis = 1) + t_bias\n",
        "Y = tf.cast(Y > 5 , dtype = tf.int32) #To get binary label\n",
        "\n",
        "#Create dataset\n",
        "dataset = tf.data.Dataset.from_tensor_slices((X, Y))\n",
        "dataset = dataset.batch(batch_size)\n",
        "\n",
        "#Set model, loss function\n",
        "model = Dense(units = 1, activation = \"sigmoid\")\n",
        "loss_object = BinaryCrossentropy()\n",
        "\n",
        "#Confirm\n",
        "for x, y in dataset:\n",
        "    predictions = model(x)\n",
        "    loss = loss_object(y, predictions)\n",
        "    print(loss.numpy())"
      ],
      "metadata": {
        "colab": {
          "base_uri": "https://localhost:8080/"
        },
        "id": "PUnmCkOrkpdi",
        "outputId": "94368491-ec5c-4e15-fcf7-4220306095bd"
      },
      "execution_count": 25,
      "outputs": [
        {
          "output_type": "stream",
          "name": "stdout",
          "text": [
            "0.6593415\n",
            "0.64507127\n",
            "0.6619818\n",
            "0.8874003\n"
          ]
        }
      ]
    },
    {
      "cell_type": "markdown",
      "source": [
        "## 4. Sparse Categorical Cross Entropy"
      ],
      "metadata": {
        "id": "V-iPJ__9mEie"
      }
    },
    {
      "cell_type": "markdown",
      "source": [
        "### 1. SCCE Calculation"
      ],
      "metadata": {
        "id": "SBsEmB9KmNmH"
      }
    },
    {
      "cell_type": "code",
      "source": [
        "import tensorflow as tf\n",
        "from tensorflow.keras.losses import SparseCategoricalCrossentropy\n",
        "\n",
        "#Set batch_size, number of class\n",
        "batch_size, n_class = 16, 5\n",
        "\n",
        "#Set label, prediction data\n",
        "labels = tf.random.uniform(shape = (batch_size, ),\n",
        "                           minval = 0, maxval = n_class, dtype = tf.int32)\n",
        "\n",
        "predictions = tf.random.uniform(shape = (batch_size, n_class),\n",
        "                                minval = 0, maxval = 1, dtype = tf.float32)\n",
        "pred_sum = tf.reshape(tf.reduce_sum(predictions, axis = 1), (-1, 1)) #shape : (original, 1)\n",
        "predictions = predictions / pred_sum # predictions의 각 row들의 원소의 합은 1이 되어야 함.\n",
        "\n",
        "#Get scce (Tensorflow)\n",
        "loss_object = SparseCategoricalCrossentropy()\n",
        "scce_tf = loss_object(labels, predictions)\n",
        "\n",
        "#Get scce (Manual)\n",
        "scce_manual = 0\n",
        "for label, prediction in zip(labels, predictions):\n",
        "    scce_manual += -tf.math.log(prediction[label])\n",
        "scce_manual /= batch_size\n",
        "\n",
        "#Confirm\n",
        "print(\"SCCE(Tensorflow): \", scce_tf.numpy())\n",
        "print(\"SCCE(Manual): \", scce_manual.numpy())"
      ],
      "metadata": {
        "colab": {
          "base_uri": "https://localhost:8080/"
        },
        "id": "7s_yNrqXmPNW",
        "outputId": "5e072ea1-6a55-4181-e8b7-ad2af5096ed8"
      },
      "execution_count": 28,
      "outputs": [
        {
          "output_type": "stream",
          "name": "stdout",
          "text": [
            "SCCE(Tensorflow):  2.489929\n",
            "SCCE(Manual):  2.4899292\n"
          ]
        }
      ]
    },
    {
      "cell_type": "markdown",
      "source": [
        "### 2. SCCE with Model/Dataset"
      ],
      "metadata": {
        "id": "Od1vL9YbmPt8"
      }
    },
    {
      "cell_type": "code",
      "source": [
        "import tensorflow as tf\n",
        "from tensorflow.keras.layers import Dense\n",
        "from tensorflow.keras.losses import SparseCategoricalCrossentropy\n",
        "\n",
        "#Set N, n_feature, number of class, batch_size\n",
        "N, n_feature = 100, 2\n",
        "n_class = 5\n",
        "batch_size = 32\n",
        "\n",
        "#Create data\n",
        "X = tf.zeros(shape = (0, n_feature))\n",
        "Y = tf.zeros(shape = (0, 1), dtype = tf.int32)\n",
        "\n",
        "for class_idx in range(n_class):\n",
        "    center = tf.random.uniform(shape = (2, ), minval = -15, maxval = 15)\n",
        "\n",
        "    x1 = center[0] + tf.random.normal(shape = (N, 1))\n",
        "    x2 = center[1] + tf.random.normal(shape = (N, 1))\n",
        "\n",
        "    x = tf.concat((x1, x2), axis = 1)\n",
        "    y = class_idx * tf.ones(shape = (N, 1), dtype = tf.int32)\n",
        "\n",
        "    X = tf.concat((X, x), axis = 0)\n",
        "    Y = tf.concat((Y, y), axis = 0)\n",
        "\n",
        "#Create dataset\n",
        "dataset = tf.data.Dataset.from_tensor_slices((X, Y))\n",
        "dataset = dataset.batch(batch_size)\n",
        "\n",
        "#Set model, loss function\n",
        "model = Dense(units = n_class, activation = \"softmax\")\n",
        "loss_object = SparseCategoricalCrossentropy()\n",
        "\n",
        "#Confirm\n",
        "for x, y in dataset:\n",
        "    predictions = model(x)\n",
        "    loss = loss_object(y, predictions)\n",
        "    print(loss.numpy())"
      ],
      "metadata": {
        "colab": {
          "base_uri": "https://localhost:8080/"
        },
        "id": "eWD8uQd0mRyM",
        "outputId": "70fa5c66-b3cf-4bce-efae-37bcae965194"
      },
      "execution_count": 12,
      "outputs": [
        {
          "output_type": "stream",
          "name": "stdout",
          "text": [
            "19.464123\n",
            "19.886187\n",
            "19.430119\n",
            "11.166124\n",
            "9.840818\n",
            "9.927541\n",
            "10.647233\n",
            "10.791934\n",
            "10.740932\n",
            "9.997108\n",
            "9.76137\n",
            "9.602\n",
            "21.805172\n",
            "32.849167\n",
            "32.14038\n",
            "32.660744\n"
          ]
        }
      ]
    },
    {
      "cell_type": "markdown",
      "source": [
        "## 5. Categorical Cross Entropy"
      ],
      "metadata": {
        "id": "KKcOYyQymSF9"
      }
    },
    {
      "cell_type": "markdown",
      "source": [
        "### 1. CCE Calculation"
      ],
      "metadata": {
        "id": "pvxmh4KgmYUz"
      }
    },
    {
      "cell_type": "code",
      "source": [
        "import tensorflow as tf\n",
        "from tensorflow.keras.losses import CategoricalCrossentropy\n",
        "\n",
        "#Set batch_size, number of class\n",
        "batch_size, n_class = 16, 5\n",
        "\n",
        "#Set labels\n",
        "labels = tf.random.uniform(shape = (batch_size, ),\n",
        "                           minval = 0, maxval = n_class, dtype = tf.int32)\n",
        "\n",
        "labels = tf.one_hot(labels, n_class)\n",
        "\n",
        "#Set predictions\n",
        "predictions = tf.random.uniform(shape = (batch_size, n_class),\n",
        "                                minval = 0, maxval = 1, dtype = tf.float32)\n",
        "pred_sum = tf.reshape(tf.reduce_sum(predictions, axis = 1), (-1, 1)) #shape : (original, 1)\n",
        "predictions = predictions / pred_sum\n",
        "\n",
        "#Get cce (Tensorflow)\n",
        "loss_object = CategoricalCrossentropy()\n",
        "cce_tf = loss_object(labels, predictions)\n",
        "\n",
        "#Get cce (Manual)\n",
        "cce_manual = tf.reduce_mean(tf.reduce_sum(-labels * tf.math.log(predictions), axis = 1))\n",
        "\n",
        "#Confirm\n",
        "print(\"CCE(Tensorflow): \", cce_tf.numpy())\n",
        "print(\"CCE(Manual): \", cce_manual.numpy())"
      ],
      "metadata": {
        "colab": {
          "base_uri": "https://localhost:8080/"
        },
        "id": "doLPlxcHmXdd",
        "outputId": "eb7c9aa2-cbbd-41e6-d5ee-71d8997e9521"
      },
      "execution_count": 36,
      "outputs": [
        {
          "output_type": "stream",
          "name": "stdout",
          "text": [
            "CCE(Tensorflow):  1.9229697\n",
            "CCE(Manual):  1.9229697\n"
          ]
        }
      ]
    },
    {
      "cell_type": "markdown",
      "source": [
        "### 2. CCE with Model/Dataset"
      ],
      "metadata": {
        "id": "hBtu9-IAmbQ4"
      }
    },
    {
      "cell_type": "code",
      "source": [
        "import tensorflow as tf\n",
        "from tensorflow.keras.losses import CategoricalCrossentropy\n",
        "\n",
        "#Set N, n_feature, number of class, batch_size\n",
        "N, n_feature = 64, 2\n",
        "n_class = 5\n",
        "batch_size = 32\n",
        "\n",
        "#Create data\n",
        "X = tf.zeros(shape = (0, n_feature))\n",
        "Y = tf.zeros(shape = (0, ), dtype = tf.int32) #vector\n",
        "\n",
        "for class_idx in range(n_class):\n",
        "    center = tf.random.uniform(shape = (2, ), minval = -15, maxval = 15)\n",
        "\n",
        "    x1 = center[0] + tf.random.normal(shape = (N, 1))\n",
        "    x2 = center[1] + tf.random.normal(shape = (N, 1))\n",
        "\n",
        "    x = tf.concat((x1, x2), axis = 1)\n",
        "    y = class_idx * tf.ones(shape = (N, ), dtype = tf.int32) #vector\n",
        "\n",
        "    X = tf.concat((X, x), axis = 0)\n",
        "    Y = tf.concat((Y, y), axis = 0)\n",
        "\n",
        "Y = tf.one_hot(Y, depth = n_class, dtype = tf.int32)\n",
        "\n",
        "#Create dataset\n",
        "dataset = tf.data.Dataset.from_tensor_slices((X, Y))\n",
        "dataset = dataset.batch(batch_size)\n",
        "\n",
        "#Set model/loss function\n",
        "model = Dense(units = n_class, activation = \"softmax\")\n",
        "loss_object = CategoricalCrossentropy()\n",
        "\n",
        "#Confirm\n",
        "for x, y in dataset:\n",
        "    predictions = model(x)\n",
        "    loss = loss_object(y, predictions)\n",
        "    print(loss.numpy())"
      ],
      "metadata": {
        "colab": {
          "base_uri": "https://localhost:8080/"
        },
        "id": "bsaMNALzmd6F",
        "outputId": "677eb50d-ef9c-4e97-85c1-cb6467a6abd8"
      },
      "execution_count": 21,
      "outputs": [
        {
          "output_type": "stream",
          "name": "stdout",
          "text": [
            "4.3979483\n",
            "4.584874\n",
            "3.3998973\n",
            "3.5025268\n",
            "4.7090187\n",
            "4.632175\n",
            "1.1500043\n",
            "1.1130182\n",
            "3.709053\n",
            "3.5024161\n"
          ]
        }
      ]
    }
  ]
}